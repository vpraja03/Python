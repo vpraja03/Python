{
 "cells": [
  {
   "cell_type": "code",
   "execution_count": 1,
   "id": "a53dedef-3691-4c78-968b-478d532f1cf2",
   "metadata": {},
   "outputs": [
    {
     "name": "stdin",
     "output_type": "stream",
     "text": [
      "Value: 10\n"
     ]
    },
    {
     "name": "stdout",
     "output_type": "stream",
     "text": [
      "Correct\n"
     ]
    }
   ],
   "source": [
    " # print 'CORRECT' if i == 10 \n",
    "a = int(input(\"Value:\"))\n",
    "\n",
    "if(a == 10):\n",
    "    print(\"Correct\")"
   ]
  },
  {
   "cell_type": "code",
   "execution_count": 3,
   "id": "b6a8b3e8-3882-43cd-8cab-6ea42857f60a",
   "metadata": {},
   "outputs": [
    {
     "name": "stdin",
     "output_type": "stream",
     "text": [
      "Enter the password: HOPE@123\n"
     ]
    },
    {
     "name": "stdout",
     "output_type": "stream",
     "text": [
      "HOPE@123\n",
      "Your password is correct\n"
     ]
    }
   ],
   "source": [
    "# Check the password, using if and else\n",
    "pwd = \"HOPE@123\"\n",
    "a = input(\"Enter the password:\")\n",
    "print(a)\n",
    "\n",
    "if(a == pwd):\n",
    "    print(\"Your password is correct\")\n",
    "else:\n",
    "    print(\"Your password is Incorrect\")"
   ]
  },
  {
   "cell_type": "code",
   "execution_count": 5,
   "id": "b56200fe-c7d9-471d-baaa-d2f805d29b4c",
   "metadata": {},
   "outputs": [
    {
     "name": "stdin",
     "output_type": "stream",
     "text": [
      "Enter the age: 25\n"
     ]
    },
    {
     "name": "stdout",
     "output_type": "stream",
     "text": [
      "Age:  25\n",
      "Adult\n"
     ]
    }
   ],
   "source": [
    "# Catagory the people by their age like children, adult, citizen, senior citizen...\n",
    "age = int(input(\"Enter the age:\"))\n",
    "\n",
    "print(\"Age: \", age)\n",
    "\n",
    "if(age < 19):\n",
    "    print(\"Children\")\n",
    "elif(age < 31):\n",
    "    print(\"Adult\")\n",
    "elif(age < 61):\n",
    "    print(\"Citizen\")\n",
    "else:\n",
    "    print(\"Senior Citizen\")"
   ]
  },
  {
   "cell_type": "code",
   "execution_count": 12,
   "id": "b7ec77ca-2818-463b-94e4-b6811c73c465",
   "metadata": {},
   "outputs": [
    {
     "name": "stdout",
     "output_type": "stream",
     "text": [
      "Children\n",
      "Adult\n",
      "Adult\n",
      "Citizen\n",
      "Senior Citizen\n"
     ]
    }
   ],
   "source": [
    "# Catagory the people by their age like children, adult, citizen, senior citizen...\n",
    "agelist = [15, 25, 29, 45, 71]\n",
    "\n",
    "for age in agelist:\n",
    "    if(age < 19):\n",
    "        print(\"Children\")\n",
    "    elif(age < 31):\n",
    "        print(\"Adult\")\n",
    "    elif(age < 61):\n",
    "        print(\"Citizen\")\n",
    "    else:\n",
    "        print(\"Senior Citizen\")"
   ]
  },
  {
   "cell_type": "code",
   "execution_count": 7,
   "id": "612170c6-c3f4-4c9b-a9d6-7241bc7c327a",
   "metadata": {},
   "outputs": [
    {
     "name": "stdin",
     "output_type": "stream",
     "text": [
      "Enter a number:  7\n"
     ]
    },
    {
     "name": "stdout",
     "output_type": "stream",
     "text": [
      "Positive number\n"
     ]
    }
   ],
   "source": [
    " # Find whether given number is positive or negative\n",
    "num = int(input(\"Enter a number: \"))\n",
    "\n",
    "if num > 0:\n",
    "    print(\"Positive number\")\n",
    "elif num < 0:\n",
    "    print(\"Negative number\")\n",
    "else:\n",
    "    print(\"Zero\")"
   ]
  },
  {
   "cell_type": "code",
   "execution_count": 9,
   "id": "f095b042-872e-40a6-a9ca-b5f8f91a6004",
   "metadata": {},
   "outputs": [
    {
     "name": "stdin",
     "output_type": "stream",
     "text": [
      "Enter a number:  22\n"
     ]
    },
    {
     "name": "stdout",
     "output_type": "stream",
     "text": [
      "The number is NOT divisible by 5\n"
     ]
    }
   ],
   "source": [
    "# Check whether the given number is divisible by 5\n",
    "num = int(input(\"Enter a number: \"))\n",
    "\n",
    "if num % 5 == 0:\n",
    "    print(\"The number is divisible by 5\")\n",
    "else:\n",
    "    print(\"The number is NOT divisible by 5\")\n"
   ]
  },
  {
   "cell_type": "code",
   "execution_count": null,
   "id": "06bd5ee6-edac-4626-ba4b-6c059fd63f72",
   "metadata": {},
   "outputs": [],
   "source": []
  }
 ],
 "metadata": {
  "kernelspec": {
   "display_name": "Python [conda env:base] *",
   "language": "python",
   "name": "conda-base-py"
  },
  "language_info": {
   "codemirror_mode": {
    "name": "ipython",
    "version": 3
   },
   "file_extension": ".py",
   "mimetype": "text/x-python",
   "name": "python",
   "nbconvert_exporter": "python",
   "pygments_lexer": "ipython3",
   "version": "3.12.7"
  }
 },
 "nbformat": 4,
 "nbformat_minor": 5
}
