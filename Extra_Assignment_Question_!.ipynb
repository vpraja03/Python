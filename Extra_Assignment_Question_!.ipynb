{
 "cells": [
  {
   "cell_type": "code",
   "execution_count": 1,
   "id": "a53dedef-3691-4c78-968b-478d532f1cf2",
   "metadata": {},
   "outputs": [
    {
     "name": "stdout",
     "output_type": "stream",
     "text": [
      "HOPE AI\n"
     ]
    }
   ],
   "source": [
    "#print Statement\n",
    "print(\"HOPE AI\")"
   ]
  },
  {
   "cell_type": "code",
   "execution_count": 3,
   "id": "19054a7c-c758-459c-906c-dce82e7b4e09",
   "metadata": {},
   "outputs": [
    {
     "name": "stdin",
     "output_type": "stream",
     "text": [
      "Enter your institute name? : HOPE AI\n"
     ]
    },
    {
     "name": "stdout",
     "output_type": "stream",
     "text": [
      "Enter your institute name? : HOPE AI\n"
     ]
    }
   ],
   "source": [
    "# Buy input\n",
    "str = input(\"Enter your institute name? :\")\n",
    "print(\"Enter your institute name? :\", str)"
   ]
  },
  {
   "cell_type": "code",
   "execution_count": 5,
   "id": "87e62327-2613-4486-80b5-90744961e54c",
   "metadata": {},
   "outputs": [
    {
     "name": "stdin",
     "output_type": "stream",
     "text": [
      "Enter your name:  Raja\n",
      "Enter your age:  25\n",
      "Enter your school name:  Guru School\n",
      "Enter your drgree:  M.Sc\n"
     ]
    },
    {
     "name": "stdout",
     "output_type": "stream",
     "text": [
      "\n",
      "\n",
      "Name: Raja\n",
      "Age: 25\n",
      "School Name: Guru School\n",
      "Drgree: M.Sc\n"
     ]
    }
   ],
   "source": [
    "#Buy inputs\n",
    "name = input(\"Enter your name: \")\n",
    "age = int(input(\"Enter your age: \"))\n",
    "school = input(\"Enter your school name: \")\n",
    "degree = input(\"Enter your drgree: \")\n",
    "\n",
    "print(\"\\n\")\n",
    "print(f\"Name: {name}\")\n",
    "print(f\"Age: {age}\")\n",
    "print(f\"School Name: {school}\")\n",
    "print(f\"Drgree: {degree}\")"
   ]
  },
  {
   "cell_type": "code",
   "execution_count": 7,
   "id": "806c0d6e-ea98-4fb3-8677-907c2b3ad343",
   "metadata": {},
   "outputs": [
    {
     "name": "stdin",
     "output_type": "stream",
     "text": [
      " 43\n",
      " 34\n"
     ]
    },
    {
     "name": "stdout",
     "output_type": "stream",
     "text": [
      "43\n",
      "34\n",
      "Add =  77\n"
     ]
    }
   ],
   "source": [
    "# Addition\n",
    "a = int(input())\n",
    "b = int(input())\n",
    "add = a+b\n",
    "\n",
    "print(a)\n",
    "print(b)\n",
    "print(\"Add = \", add)"
   ]
  },
  {
   "cell_type": "code",
   "execution_count": 9,
   "id": "1a209ed6-ffbc-48ce-9d21-b0b8bd7282af",
   "metadata": {},
   "outputs": [
    {
     "name": "stdin",
     "output_type": "stream",
     "text": [
      " 43\n",
      " 34\n"
     ]
    },
    {
     "name": "stdout",
     "output_type": "stream",
     "text": [
      "43\n",
      "34\n",
      "Sub =  9\n"
     ]
    }
   ],
   "source": [
    "# Subtract\n",
    "a = int(input())\n",
    "b = int(input())\n",
    "sub = a-b\n",
    "\n",
    "print(a)\n",
    "print(b)\n",
    "print(\"Sub = \", sub)"
   ]
  },
  {
   "cell_type": "code",
   "execution_count": 11,
   "id": "5965afd7-0ba0-47e7-89ea-b9f9c92f683f",
   "metadata": {},
   "outputs": [
    {
     "name": "stdin",
     "output_type": "stream",
     "text": [
      " 63\n",
      " 97\n"
     ]
    },
    {
     "name": "stdout",
     "output_type": "stream",
     "text": [
      "63\n",
      "97\n",
      "Mul =  6111\n"
     ]
    }
   ],
   "source": [
    "# Multiplication\n",
    "a = int(input())\n",
    "b = int(input())\n",
    "mul = a*b\n",
    "\n",
    "print(a)\n",
    "print(b)\n",
    "print(\"Mul = \", mul)"
   ]
  },
  {
   "cell_type": "code",
   "execution_count": 13,
   "id": "e45239c5-03c6-4336-ae95-eeed1d9f451e",
   "metadata": {},
   "outputs": [
    {
     "name": "stdin",
     "output_type": "stream",
     "text": [
      " 76\n",
      " 31\n"
     ]
    },
    {
     "name": "stdout",
     "output_type": "stream",
     "text": [
      "76\n",
      "31\n",
      "Div =  2.4516129032258065\n"
     ]
    }
   ],
   "source": [
    "# Division\n",
    "a = int(input())\n",
    "b = int(input())\n",
    "div = a/b\n",
    "\n",
    "print(a)\n",
    "print(b)\n",
    "print(\"Div = \", div)"
   ]
  },
  {
   "cell_type": "code",
   "execution_count": 15,
   "id": "1d2ffb72-7274-458f-828c-4f2e5a8e3906",
   "metadata": {},
   "outputs": [
    {
     "name": "stdin",
     "output_type": "stream",
     "text": [
      " 76\n",
      " 31\n"
     ]
    },
    {
     "name": "stdout",
     "output_type": "stream",
     "text": [
      "76\n",
      "31\n",
      "Div =  2\n"
     ]
    }
   ],
   "source": [
    "# Floor Division\n",
    "a = int(input())\n",
    "b = int(input())\n",
    "div = a//b\n",
    "\n",
    "print(a)\n",
    "print(b)\n",
    "print(\"Div = \", div)"
   ]
  },
  {
   "cell_type": "code",
   "execution_count": 17,
   "id": "87938f32-7e09-4510-968f-f4a2bf576122",
   "metadata": {},
   "outputs": [
    {
     "name": "stdin",
     "output_type": "stream",
     "text": [
      " 76\n",
      " 31\n"
     ]
    },
    {
     "name": "stdout",
     "output_type": "stream",
     "text": [
      "76\n",
      "31\n",
      "Div =  14\n"
     ]
    }
   ],
   "source": [
    "# Modulo\n",
    "a = int(input())\n",
    "b = int(input())\n",
    "mod = a%b\n",
    "\n",
    "print(a)\n",
    "print(b)\n",
    "print(\"Div = \", mod)"
   ]
  },
  {
   "cell_type": "code",
   "execution_count": 19,
   "id": "6655155d-3648-476e-a917-8884ee625adf",
   "metadata": {},
   "outputs": [
    {
     "name": "stdin",
     "output_type": "stream",
     "text": [
      " 4\n",
      " 4\n"
     ]
    },
    {
     "name": "stdout",
     "output_type": "stream",
     "text": [
      "4\n",
      "4\n",
      "Pow =  256\n"
     ]
    }
   ],
   "source": [
    "# Power\n",
    "a = int(input())\n",
    "b = int(input())\n",
    "pw = a**b\n",
    "\n",
    "print(a)\n",
    "print(b)\n",
    "print(\"Pow = \", pw)"
   ]
  },
  {
   "cell_type": "code",
   "execution_count": null,
   "id": "9533284d-6f7d-4135-8a72-2b50cf1db572",
   "metadata": {},
   "outputs": [],
   "source": []
  }
 ],
 "metadata": {
  "kernelspec": {
   "display_name": "Python [conda env:base] *",
   "language": "python",
   "name": "conda-base-py"
  },
  "language_info": {
   "codemirror_mode": {
    "name": "ipython",
    "version": 3
   },
   "file_extension": ".py",
   "mimetype": "text/x-python",
   "name": "python",
   "nbconvert_exporter": "python",
   "pygments_lexer": "ipython3",
   "version": "3.12.7"
  }
 },
 "nbformat": 4,
 "nbformat_minor": 5
}
